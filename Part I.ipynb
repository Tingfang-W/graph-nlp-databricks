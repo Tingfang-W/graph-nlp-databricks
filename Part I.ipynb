{
 "cells": [
  {
   "cell_type": "code",
   "execution_count": 0,
   "metadata": {
    "application/vnd.databricks.v1+cell": {
     "cellMetadata": {
      "byteLimit": 2048000,
      "rowLimit": 10000
     },
     "inputWidgets": {},
     "nuid": "1e8d40a8-65f2-402e-a201-6f282d93165e",
     "showTitle": false,
     "tableResultSettingsMap": {},
     "title": ""
    }
   },
   "outputs": [],
   "source": [
    "from graphframes import GraphFrame\n",
    "from pyspark.sql.functions import desc"
   ]
  },
  {
   "cell_type": "code",
   "execution_count": 0,
   "metadata": {
    "application/vnd.databricks.v1+cell": {
     "cellMetadata": {
      "byteLimit": 2048000,
      "rowLimit": 10000
     },
     "inputWidgets": {},
     "nuid": "03d75aac-e180-4794-b0dd-c800287b192f",
     "showTitle": false,
     "tableResultSettingsMap": {},
     "title": ""
    }
   },
   "outputs": [
    {
     "output_type": "stream",
     "name": "stdout",
     "output_type": "stream",
     "text": [
      "+------+-----------------+----+-----------------+\n|ORIGIN| ORIGIN_CITY_NAME|DEST|   DEST_CITY_NAME|\n+------+-----------------+----+-----------------+\n|   06A|     Kizhuyak, AK| A43|Kodiak Island, AK|\n|   06A|     Kizhuyak, AK| A43|Kodiak Island, AK|\n|   1G4|Peach Springs, AZ| BLD| Boulder City, NV|\n|   1G4|Peach Springs, AZ| BLD| Boulder City, NV|\n|   1NY|     Penn Yan, NY| ANP|    Annapolis, MD|\n+------+-----------------+----+-----------------+\nonly showing top 5 rows\n\n"
     ]
    }
   ],
   "source": [
    "flights = spark.read.option(\"header\",\"true\").csv(\"dbfs:/FileStore/shared_uploads/tingfangwang12@gmail.com/T_T100D_SEGMENT_US_CARRIER_ONLY.csv\")\n",
    "flights.show(5)"
   ]
  },
  {
   "cell_type": "code",
   "execution_count": 0,
   "metadata": {
    "application/vnd.databricks.v1+cell": {
     "cellMetadata": {
      "byteLimit": 2048000,
      "rowLimit": 10000
     },
     "inputWidgets": {},
     "nuid": "134a45b3-b6c4-48b2-8f1e-ed2181e589df",
     "showTitle": false,
     "tableResultSettingsMap": {},
     "title": ""
    }
   },
   "outputs": [],
   "source": [
    "# Extract airports and routes form the data\n",
    "# vertices\n",
    "airports = flights.select(\"ORIGIN\", \"ORIGIN_CITY_NAME\").toDF(\"id\", \"name\").distinct()\n",
    "\n",
    "# edges\n",
    "airportEdges = flights.select(\"ORIGIN\", \"DEST\").toDF(\"src\",\"dst\")"
   ]
  },
  {
   "cell_type": "code",
   "execution_count": 0,
   "metadata": {
    "application/vnd.databricks.v1+cell": {
     "cellMetadata": {
      "byteLimit": 2048000,
      "rowLimit": 10000
     },
     "inputWidgets": {},
     "nuid": "599a46b9-759e-4d21-aa95-6f7d3b1cdfbd",
     "showTitle": false,
     "tableResultSettingsMap": {},
     "title": ""
    }
   },
   "outputs": [
    {
     "output_type": "execute_result",
     "data": {
      "text/plain": [
       "GraphFrame(v:[id: string, name: string], e:[src: string, dst: string])"
      ]
     },
     "execution_count": 4,
     "metadata": {},
     "output_type": "execute_result"
    }
   ],
   "source": [
    "# Create the graph\n",
    "airportGraph = GraphFrame(airports, airportEdges)\n",
    "# save the graph in memory\n",
    "airportGraph.cache()"
   ]
  },
  {
   "cell_type": "code",
   "execution_count": 0,
   "metadata": {
    "application/vnd.databricks.v1+cell": {
     "cellMetadata": {
      "byteLimit": 2048000,
      "rowLimit": 10000
     },
     "inputWidgets": {},
     "nuid": "730c66c1-bcde-4bd2-9246-fe073a821646",
     "showTitle": false,
     "tableResultSettingsMap": {},
     "title": ""
    }
   },
   "outputs": [
    {
     "output_type": "stream",
     "name": "stdout",
     "output_type": "stream",
     "text": [
      "+---+---------+\n| id|outDegree|\n+---+---------+\n|ORD|     1146|\n|DEN|     1080|\n|ATL|      843|\n|DFW|      754|\n|LAS|      737|\n+---+---------+\nonly showing top 5 rows\n\n"
     ]
    }
   ],
   "source": [
    "# Find the top 5 nodes with the highest outdegree and find the count of the number of outgoing edges in each\n",
    "airportGraph.outDegrees.orderBy(desc(\"outDegree\")).show(5)"
   ]
  },
  {
   "cell_type": "code",
   "execution_count": 0,
   "metadata": {
    "application/vnd.databricks.v1+cell": {
     "cellMetadata": {
      "byteLimit": 2048000,
      "rowLimit": 10000
     },
     "inputWidgets": {},
     "nuid": "30e63afc-3ce6-4a99-aab0-e3a28f5f1e7a",
     "showTitle": false,
     "tableResultSettingsMap": {},
     "title": ""
    }
   },
   "outputs": [
    {
     "output_type": "stream",
     "name": "stdout",
     "output_type": "stream",
     "text": [
      "+---+--------+\n| id|inDegree|\n+---+--------+\n|ORD|    1156|\n|DEN|    1082|\n|ATL|     842|\n|DFW|     768|\n|LAS|     734|\n+---+--------+\nonly showing top 5 rows\n\n"
     ]
    }
   ],
   "source": [
    "# Find the top 5 nodes with the highest indegree and find the count of the number of incoming edges in each\n",
    "airportGraph.inDegrees.orderBy(desc(\"inDegree\")).show(5)"
   ]
  },
  {
   "cell_type": "code",
   "execution_count": 0,
   "metadata": {
    "application/vnd.databricks.v1+cell": {
     "cellMetadata": {
      "byteLimit": 2048000,
      "rowLimit": 10000
     },
     "inputWidgets": {},
     "nuid": "ee1a58d6-4fd6-4e9a-a7f2-73a64db527e9",
     "showTitle": false,
     "tableResultSettingsMap": {},
     "title": ""
    }
   },
   "outputs": [
    {
     "output_type": "stream",
     "name": "stdout",
     "output_type": "stream",
     "text": [
      "+---+------------------+\n| id|          pagerank|\n+---+------------------+\n|DEN| 19.68945365287849|\n|ORD|18.735132643224823|\n|DFW|13.689951530723238|\n|ATL|13.297504852945211|\n|ANC|12.812466462491926|\n+---+------------------+\nonly showing top 5 rows\n\n"
     ]
    }
   ],
   "source": [
    "# Calculate PageRank for each of the nodes and output the top 5 nodes with the highest PageRank\n",
    "ranks = airportGraph.pageRank(resetProbability=0.15, maxIter=5)\n",
    "ranks.vertices.orderBy(desc(\"pagerank\")).select(\"id\", \"pagerank\").show(5)"
   ]
  },
  {
   "cell_type": "code",
   "execution_count": 0,
   "metadata": {
    "application/vnd.databricks.v1+cell": {
     "cellMetadata": {
      "byteLimit": 2048000,
      "rowLimit": 10000
     },
     "inputWidgets": {},
     "nuid": "5c961f4c-3a5c-44de-9e0a-07ac4da397ec",
     "showTitle": false,
     "tableResultSettingsMap": {},
     "title": ""
    }
   },
   "outputs": [
    {
     "output_type": "stream",
     "name": "stdout",
     "output_type": "stream",
     "text": [
      "+------------+-----+\n|   component|count|\n+------------+-----+\n|           0|  398|\n|           1|   11|\n|           2|    3|\n|644245094400|    3|\n| 25769803778|    3|\n+------------+-----+\nonly showing top 5 rows\n\n"
     ]
    }
   ],
   "source": [
    "# Run the strongly connected components algorithm on it and find the top 5 components with the largest number of nodes.\n",
    "# strongly connected components\n",
    "sc = spark.sparkContext\n",
    "sc.setCheckpointDir(\"/tmp\")\n",
    "\n",
    "# Define the size of the sample (number of vertices)\n",
    "sample_size = 500\n",
    "\n",
    "# Get a random sample of vertices from the original graph\n",
    "sampled_vertices = airportGraph.vertices.limit(sample_size)\n",
    "\n",
    "# Collect the IDs of the sampled vertices\n",
    "sampled_vertex_ids = [row['id'] for row in sampled_vertices.collect()]\n",
    "\n",
    "# Filter edges to keep only those connecting sampled vertices\n",
    "edges = airportGraph.edges\n",
    "sampled_edges = edges.filter(edges['src'].isin(sampled_vertex_ids) | edges['dst'].isin(sampled_vertex_ids))\n",
    "\n",
    "# Create a graph from the sampled vertices and edges\n",
    "sampled_graph = GraphFrame(sampled_vertices, sampled_edges)\n",
    "\n",
    "# Get the strongly connected components\n",
    "result = sampled_graph.stronglyConnectedComponents(maxIter = 5)\n",
    "\n",
    "# Extract the sizes of each connected component, count: number of nodes in each component\n",
    "component_sizes = result.groupby(\"component\").count()\n",
    "\n",
    "# Sort the component sizes in descending order to check the top 5 components with largest number of vertices\n",
    "top_components = component_sizes.orderBy(desc(\"count\"))\n",
    "top_components.show(5)"
   ]
  },
  {
   "cell_type": "code",
   "execution_count": 0,
   "metadata": {
    "application/vnd.databricks.v1+cell": {
     "cellMetadata": {
      "byteLimit": 2048000,
      "rowLimit": 10000
     },
     "inputWidgets": {},
     "nuid": "ed05ae7f-e1e2-4d48-88b5-c68a2eca37a5",
     "showTitle": false,
     "tableResultSettingsMap": {},
     "title": ""
    }
   },
   "outputs": [
    {
     "output_type": "stream",
     "name": "stdout",
     "output_type": "stream",
     "text": [
      "+---+--------------------+-----+\n| id|                name|count|\n+---+--------------------+-----+\n|DFW|Dallas/Fort Worth...| 3258|\n|ATL|         Atlanta, GA| 3115|\n|ORD|         Chicago, IL| 3070|\n|DEN|          Denver, CO| 2968|\n|LAS|       Las Vegas, NV| 2956|\n+---+--------------------+-----+\nonly showing top 5 rows\n\n"
     ]
    }
   ],
   "source": [
    "# Run the triangle counts algorithm on each of the vertices and output the top 5 vertices with the largest triangle count.\n",
    "results = airportGraph.triangleCount()\n",
    "results.select(\"id\", \"name\", \"count\").orderBy(desc(\"count\")).show(5)"
   ]
  }
 ],
 "metadata": {
  "application/vnd.databricks.v1+notebook": {
   "computePreferences": null,
   "dashboards": [],
   "environmentMetadata": null,
   "language": "python",
   "notebookMetadata": {
    "pythonIndentUnit": 4
   },
   "notebookName": "Part I",
   "widgets": {}
  }
 },
 "nbformat": 4,
 "nbformat_minor": 0
}
